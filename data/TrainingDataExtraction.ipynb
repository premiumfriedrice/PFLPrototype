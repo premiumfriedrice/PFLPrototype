{
 "cells": [
  {
   "cell_type": "code",
   "execution_count": 4,
   "metadata": {},
   "outputs": [],
   "source": [
    "import pdfplumber\n",
    "\n",
    "# replace path with your local path to the pdf of the study\n",
    "path = 'C:/Users/aiden/downloads/01-national-descriptive-report-accessible.pdf'\n",
    "\n",
    "tables = []\n",
    "\n",
    "with pdfplumber.open(path) as pdf:\n",
    "    for i in range(6, len(pdf.pages)-1):\n",
    "        tables.append(pdf.pages[i].extract_table())"
   ]
  },
  {
   "cell_type": "code",
   "execution_count": 6,
   "metadata": {},
   "outputs": [],
   "source": [
    "# get questions into dictionary\n",
    "answers = {}\n",
    "\n",
    "for line in tables[0]:\n",
    "    if line[0] != '':\n",
    "        answers[line[0]] = []\n",
    "\n",
    "qstn = 0\n",
    "\n",
    "key = list(answers.keys())[qstn]\n",
    "\n",
    "for line in tables[0]:\n",
    "    if line[0] == '':\n",
    "        answers[key].append(line)\n"
   ]
  },
  {
   "cell_type": "code",
   "execution_count": 12,
   "metadata": {},
   "outputs": [
    {
     "name": "stdout",
     "output_type": "stream",
     "text": [
      "['18-23', '87.6%', '26,187']\n",
      "18-23\n",
      "['24-29', '6.6%', '1,967']\n",
      "24-29\n",
      "['30-39', '3.6%', '1,070']\n",
      "30-39\n",
      "['40-49', '1.4%', '428']\n",
      "40-49\n",
      "['50-59', '0.6%', '183']\n",
      "50-59\n",
      "['60', 'or', 'older', '0.2%', '48']\n",
      "60 or older\n",
      "['Total', 'Responses', '100.0%', '29,883']\n",
      "Total Responses\n",
      "['First-year', 'undergraduate', '26.7%', '7,961']\n",
      "First-year undergraduate\n",
      "['Second-year', 'undergraduate', '23.2%', '6,937']\n",
      "Second-year undergraduate\n",
      "['Third-year', 'undergraduate', '24.4%', '7,284']\n",
      "Third-year undergraduate\n",
      "['Fourth-year', 'undergraduate', '19.4%', '5,796']\n",
      "Fourth-year undergraduate\n",
      "['Fifth-year', 'or', 'beyond\\n6.1%', '1,818\\nundergraduate']\n",
      "Fifth-year or\n",
      "['Graduate/Professional', 'student', '0.2%', '71']\n",
      "Graduate/Professional student\n",
      "['Total', 'Responses', '100.0%', '29,867']\n",
      "Total Responses\n",
      "['Yes,', 'I', 'am', 'in', 'a', '3+2', 'program.', '20.3%', '14']\n",
      "Yes, I am in a 3+2 program.\n",
      "['Yes,', 'I', 'am', 'dual-enrolled', 'as', 'an\\nundergraduate', 'and', '79.7%', '55\\ngraduate/professional', 'student.']\n",
      "Yes, I am dual-enrolled as an\n",
      "undergraduate and 79.7%\n",
      "['No,', 'I', 'only', 'take\\n0.0%', '0\\ngraduate/professional', 'classes.']\n",
      "No, I only take\n",
      "0.0%\n",
      "['Total', 'Responses', '100.0%', '69']\n",
      "Total Responses\n",
      "['Agender', '0.4%', '121']\n",
      "Agender\n",
      "['Genderqueer', 'or', 'Gender', 'fluid', '0.9%', '269']\n",
      "Genderqueer or Gender fluid\n",
      "['Man', '31.0%', '9,237']\n",
      "Man\n",
      "['Trans', 'Man', '0.4%', '122']\n",
      "Trans Man\n",
      "['Trans', 'Woman', '0.1%', '42']\n",
      "Trans Woman\n",
      "['Woman', '66.8%', '19,923']\n",
      "Woman\n",
      "['Preferred', 'Identity', '(in', 'addition', 'to\\n0.3%', '103\\nor', 'not', 'listed', 'above)']\n",
      "Preferred Identity (in addition to\n",
      "0.3% 103\n",
      "or not\n",
      "['Prefer', 'not', 'to', 'disclose', '0.6%', '188']\n",
      "Prefer not to disclose\n",
      "['Total', 'Responses', '29,823']\n",
      "Total\n"
     ]
    }
   ],
   "source": [
    "# get answers to each question into clean format\n",
    "def mergeQuestions(lst):\n",
    "    end = len(lst)\n",
    "    lst[0:2] = [' '.join(lst[0:2])]\n",
    "\n",
    "for qstn in answers['Age of Respondents1']:\n",
    "    splt = qstn[1].split(' ')\n",
    "    #mergeQuestions(splt)\n",
    "    print(splt)\n",
    "    print(' '.join(splt[:-2]))\n",
    "\n"
   ]
  },
  {
   "cell_type": "code",
   "execution_count": 16,
   "metadata": {},
   "outputs": [
    {
     "name": "stdout",
     "output_type": "stream",
     "text": [
      "['Age of Respondents1', None, None, None, None]\n"
     ]
    }
   ],
   "source": [
    "import csv\n",
    "\n",
    "fields = ['name']\n",
    "\n",
    "\"\"\"for i in tables[0]:\n",
    "    if i[0] == '':\n",
    "        tables[0][i][0].remove()\"\"\"\n",
    "print(tables[0][0][0])\n",
    "with open('mycsv.csv', 'w') as csvfile:\n",
    "    writer = csv.writer(csvfile)\n",
    "\n",
    "    writer.writerow(tables[0])\n"
   ]
  }
 ],
 "metadata": {
  "kernelspec": {
   "display_name": "DataScience",
   "language": "python",
   "name": "python3"
  },
  "language_info": {
   "codemirror_mode": {
    "name": "ipython",
    "version": 3
   },
   "file_extension": ".py",
   "mimetype": "text/x-python",
   "name": "python",
   "nbconvert_exporter": "python",
   "pygments_lexer": "ipython3",
   "version": "3.11.4"
  },
  "orig_nbformat": 4
 },
 "nbformat": 4,
 "nbformat_minor": 2
}
