{
 "cells": [
  {
   "cell_type": "code",
   "execution_count": 1,
   "metadata": {},
   "outputs": [],
   "source": [
    "import pdfplumber\n",
    "\n",
    "# replace path with your local path to the pdf of the study\n",
    "path = '/Users/lloydalba/Documents/Professional Documents/FundU/01-national-descriptive-report-accessible.pdf'\n",
    "\n",
    "tables = []\n",
    "\n",
    "with pdfplumber.open(path) as pdf:\n",
    "    for i in range(6, len(pdf.pages)-1):\n",
    "        tables.append(pdf.pages[i].extract_table())"
   ]
  },
  {
   "cell_type": "code",
   "execution_count": 16,
   "metadata": {},
   "outputs": [],
   "source": [
    "# get questions into dictionary\n",
    "answers = {}\n",
    "\n",
    "for line in tables[0]:\n",
    "    if line[0] != '':\n",
    "        answers[line[0]] = []\n",
    "\n",
    "qstn = 0\n",
    "\n",
    "key = list(answers.keys())[qstn]\n",
    "\n",
    "for line in tables[0]:\n",
    "    if line[0] == '':\n",
    "        answers[key].append(line)\n"
   ]
  },
  {
   "cell_type": "code",
   "execution_count": 21,
   "metadata": {},
   "outputs": [
    {
     "name": "stdout",
     "output_type": "stream",
     "text": [
      "18-23\n",
      "24-29\n",
      "30-39\n",
      "40-49\n",
      "50-59\n",
      "60 or older\n",
      "Total Responses\n",
      "First-year undergraduate\n",
      "Second-year undergraduate\n",
      "Third-year undergraduate\n",
      "Fourth-year undergraduate\n",
      "Fifth-year or\n",
      "Graduate/Professional student\n",
      "Total Responses\n",
      "Yes, I am in a 3+2 program.\n",
      "Yes, I am dual-enrolled as an\n",
      "undergraduate and 79.7%\n",
      "No, I only take\n",
      "0.0%\n",
      "Total Responses\n",
      "Agender\n",
      "Genderqueer or Gender fluid\n",
      "Man\n",
      "Trans Man\n",
      "Trans Woman\n",
      "Woman\n",
      "Preferred Identity (in addition to\n",
      "0.3% 103\n",
      "or not\n",
      "Prefer not to disclose\n",
      "Total\n"
     ]
    }
   ],
   "source": [
    "# get answers to each question into clean format\n",
    "def mergeQuestions(lst):\n",
    "    end = len(lst)\n",
    "    lst[0:2] = [' '.join(lst[0:2])]\n",
    "\n",
    "for qstn in answers['Age of Respondents1']:\n",
    "    splt = qstn[1].split(' ')\n",
    "    #mergeQuestions(splt)\n",
    "    #print(splt)\n",
    "    print(' '.join(splt[:-2]))\n",
    "\n"
   ]
  },
  {
   "cell_type": "code",
   "execution_count": 10,
   "metadata": {},
   "outputs": [],
   "source": [
    "import csv\n",
    "\n",
    "fields = ['name']\n",
    "with open('mycsv.csv', 'w') as csvfile:\n",
    "    writer = csv.writer(csvfile)\n",
    "\n",
    "    writer.writerow(tables[0])\n"
   ]
  }
 ],
 "metadata": {
  "kernelspec": {
   "display_name": "DataScience",
   "language": "python",
   "name": "python3"
  },
  "language_info": {
   "codemirror_mode": {
    "name": "ipython",
    "version": 3
   },
   "file_extension": ".py",
   "mimetype": "text/x-python",
   "name": "python",
   "nbconvert_exporter": "python",
   "pygments_lexer": "ipython3",
   "version": "3.11.4"
  },
  "orig_nbformat": 4
 },
 "nbformat": 4,
 "nbformat_minor": 2
}
