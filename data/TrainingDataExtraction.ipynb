{
 "cells": [
  {
   "cell_type": "code",
   "execution_count": 4,
   "metadata": {},
   "outputs": [],
   "source": [
    "import pdfplumber\n",
    "\n",
    "# replace path with your local path to the pdf of the study\n",
    "path = 'C:/Users/aiden/downloads/01-national-descriptive-report-accessible.pdf'\n",
    "\n",
    "tables = []\n",
    "\n",
    "with pdfplumber.open(path) as pdf:\n",
    "    for i in range(6, len(pdf.pages)-1):\n",
    "        tables.append(pdf.pages[i].extract_table())"
   ]
  },
  {
   "cell_type": "code",
   "execution_count": 6,
   "metadata": {},
   "outputs": [],
   "source": [
    "# get questions into dictionary\n",
    "answers = {}\n",
    "\n",
    "for line in tables[0]:\n",
    "    if line[0] != '':\n",
    "        answers[line[0]] = []\n",
    "\n",
    "qstn = 0\n",
    "\n",
    "key = list(answers.keys())[qstn]\n",
    "\n",
    "for line in tables[0]:\n",
    "    if line[0] == '':\n",
    "        answers[key].append(line)\n"
   ]
  },
  {
   "cell_type": "code",
   "execution_count": 20,
   "metadata": {},
   "outputs": [
    {
     "name": "stdout",
     "output_type": "stream",
     "text": [
      "['49.1%', '648']\n",
      "\n",
      "['20.3%', '268']\n",
      "\n",
      "['18.2%', '240']\n",
      "\n",
      "['7.3%', '96']\n",
      "\n",
      "['4.2%', '56']\n",
      "\n",
      "['1.0%', '13']\n",
      "\n",
      "['100.0%', '1,321']\n",
      "\n",
      "['34.3%', '452']\n",
      "\n",
      "['36.8%', '485']\n",
      "\n",
      "['13.7%', '180']\n",
      "\n",
      "['5.5%', '73']\n",
      "\n",
      "['7.5%', '99']\n",
      "\n",
      "['2.1%', '28']\n",
      "\n",
      "['100.0%', '1,317']\n",
      "\n",
      "['33.3%', '9']\n",
      "\n",
      "['66.7%', '18']\n",
      "\n",
      "['0.0%', '0']\n",
      "\n",
      "['100.0%', '27']\n",
      "\n",
      "['0.5%', '6']\n",
      "\n",
      "['1.1%', '15']\n",
      "\n",
      "['27.4%', '360']\n",
      "\n",
      "['0.3%', '4']\n",
      "\n",
      "['0.1%', '1']\n",
      "\n",
      "['70.0%', '921']\n",
      "\n",
      "['0.2%', '3']\n",
      "\n",
      "['1.1%', '14']\n",
      "\n",
      "['1,316']\n",
      "\n"
     ]
    }
   ],
   "source": [
    "# get answers to each question into clean format\n",
    "def mergeQuestions(lst):\n",
    "    end = len(lst)\n",
    "    lst[0:2] = [' '.join(lst[0:2])]\n",
    "\n",
    "for qstn in answers['Age of Respondents1']:\n",
    "    splt = qstn[1].split(' ')\n",
    "    #mergeQuestions(splt)\n",
    "    print(splt)\n",
    "    print(' '.join(splt[:-2]))\n",
    "\n",
    "for i in range(len(tables[0])):\n",
    "    if tables[0][i][0] == '':\n",
    "        tables[0][i].remove('')\n",
    "\n"
   ]
  },
  {
   "cell_type": "code",
   "execution_count": 19,
   "metadata": {},
   "outputs": [],
   "source": [
    "import csv\n",
    "\n",
    "fields = ['name']\n",
    "with open('mycsv.csv', 'w') as csvfile:\n",
    "    writer = csv.writer(csvfile)\n",
    "\n",
    "    writer.writerow(tables[0])\n"
   ]
  }
 ],
 "metadata": {
  "kernelspec": {
   "display_name": "DataScience",
   "language": "python",
   "name": "python3"
  },
  "language_info": {
   "codemirror_mode": {
    "name": "ipython",
    "version": 3
   },
   "file_extension": ".py",
   "mimetype": "text/x-python",
   "name": "python",
   "nbconvert_exporter": "python",
   "pygments_lexer": "ipython3",
   "version": "3.11.4"
  },
  "orig_nbformat": 4
 },
 "nbformat": 4,
 "nbformat_minor": 2
}
